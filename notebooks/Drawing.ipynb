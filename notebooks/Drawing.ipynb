{
 "cells": [
  {
   "cell_type": "code",
   "execution_count": 69,
   "metadata": {},
   "outputs": [],
   "source": [
    "mozilla_sample = \"\"\"\n",
    "<svg viewbox=\"0 0 1920 1080\" version=\"1.1\" xmlns=\"http://www.w3.org/2000/svg\">\n",
    "\n",
    "  <rect x=\"10\" y=\"10\" width=\"30\" height=\"30\" stroke=\"black\" fill=\"transparent\" stroke-width=\"5\"/>\n",
    "  <rect x=\"60\" y=\"10\" rx=\"10\" ry=\"10\" width=\"30\" height=\"30\" stroke=\"black\" fill=\"transparent\" stroke-width=\"5\"/>\n",
    "\n",
    "  <circle cx=\"25\" cy=\"75\" r=\"20\" stroke=\"red\" fill=\"transparent\" stroke-width=\"5\"/>\n",
    "  <ellipse cx=\"75\" cy=\"75\" rx=\"20\" ry=\"5\" stroke=\"red\" fill=\"transparent\" stroke-width=\"5\"/>\n",
    "\n",
    "  <line x1=\"10\" x2=\"50\" y1=\"110\" y2=\"150\" stroke=\"orange\" stroke-width=\"5\"/>\n",
    "  <polyline points=\"60 110 65 120 70 115 75 130 80 125 85 140 90 135 95 150 100 145\"\n",
    "      stroke=\"orange\" fill=\"transparent\" stroke-width=\"5\"/>\n",
    "\n",
    "  <polygon points=\"50 160 55 180 70 180 60 190 65 205 50 195 35 205 40 190 30 180 45 180\"\n",
    "      stroke=\"green\" stroke-linecap=\"miter\" fill=\"transparent\" stroke-width=\"5\"/>\n",
    "\n",
    "  <path pathLength=\"200\" d=\"M20,230 Q40,205 50,230 T90,230 T120, 300 T200, 300 T300 300 T400 300 T800 300 T1600 300\" fill=\"none\" stroke=\"blue\" stroke-width=\"5\"/>\n",
    "</svg>\n",
    "\"\"\";"
   ]
  },
  {
   "cell_type": "code",
   "execution_count": 70,
   "metadata": {},
   "outputs": [
    {
     "data": {
      "image/svg+xml": [
       "<svg viewbox=\"0 0 1920 1080\" version=\"1.1\" xmlns=\"http://www.w3.org/2000/svg\">\n",
       "\n",
       "  <rect x=\"10\" y=\"10\" width=\"30\" height=\"30\" stroke=\"black\" fill=\"transparent\" stroke-width=\"5\"/>\n",
       "  <rect x=\"60\" y=\"10\" rx=\"10\" ry=\"10\" width=\"30\" height=\"30\" stroke=\"black\" fill=\"transparent\" stroke-width=\"5\"/>\n",
       "\n",
       "  <circle cx=\"25\" cy=\"75\" r=\"20\" stroke=\"red\" fill=\"transparent\" stroke-width=\"5\"/>\n",
       "  <ellipse cx=\"75\" cy=\"75\" rx=\"20\" ry=\"5\" stroke=\"red\" fill=\"transparent\" stroke-width=\"5\"/>\n",
       "\n",
       "  <line x1=\"10\" x2=\"50\" y1=\"110\" y2=\"150\" stroke=\"orange\" stroke-width=\"5\"/>\n",
       "  <polyline points=\"60 110 65 120 70 115 75 130 80 125 85 140 90 135 95 150 100 145\"\n",
       "      stroke=\"orange\" fill=\"transparent\" stroke-width=\"5\"/>\n",
       "\n",
       "  <polygon points=\"50 160 55 180 70 180 60 190 65 205 50 195 35 205 40 190 30 180 45 180\"\n",
       "      stroke=\"green\" stroke-linecap=\"miter\" fill=\"transparent\" stroke-width=\"5\"/>\n",
       "\n",
       "  <path pathLength=\"200\" d=\"M20,230 Q40,205 50,230 T90,230 T120, 300 T200, 300 T300 300 T400 300 T800 300 T1600 300\" fill=\"none\" stroke=\"blue\" stroke-width=\"5\"/>\n",
       "</svg>\n"
      ]
     },
     "metadata": {},
     "output_type": "display_data"
    }
   ],
   "source": [
    "display(\"image/svg+xml\", mozilla_sample)"
   ]
  },
  {
   "cell_type": "code",
   "execution_count": 47,
   "metadata": {},
   "outputs": [
    {
     "data": {
      "text/plain": [
       "962"
      ]
     },
     "execution_count": 47,
     "metadata": {},
     "output_type": "execute_result"
    }
   ],
   "source": [
    "write(\"output/moz.svg\", mozilla_sample)"
   ]
  },
  {
   "cell_type": "code",
   "execution_count": null,
   "metadata": {},
   "outputs": [],
   "source": []
  }
 ],
 "metadata": {
  "kernelspec": {
   "display_name": "Julia 0.6.3",
   "language": "julia",
   "name": "julia-0.6"
  },
  "language_info": {
   "file_extension": ".jl",
   "mimetype": "application/julia",
   "name": "julia",
   "version": "0.6.3"
  }
 },
 "nbformat": 4,
 "nbformat_minor": 2
}
