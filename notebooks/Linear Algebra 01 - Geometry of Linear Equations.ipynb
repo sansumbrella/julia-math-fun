{
 "cells": [
  {
   "cell_type": "markdown",
   "metadata": {},
   "source": [
    "# Linear Algebra Learning Place\n",
    "\n",
    "## Introduction to Linear Algebra\n",
    "MIT Gilbert Strang lectures\n",
    "https://ocw.mit.edu/courses/mathematics/18-06sc-linear-algebra-fall-2011/syllabus/  \n",
    "https://ocw.mit.edu/courses/mathematics/18-06sc-linear-algebra-fall-2011/ax-b-and-the-four-subspaces/the-geometry-of-linear-equations/\n",
    "\n",
    "- Watch lectures\n",
    "- Do problems in summary\n",
    "\n",
    "Problem sets from 1806 with Julia:\n",
    "https://github.com/stevengj/1806/blob/fall17/summaries.md\n",
    "\n",
    "## Other reference materials\n",
    "http://docs.juliaplots.org/latest/  \n",
    "https://lectures.quantecon.org/jl/linear_algebra.html  \n",
    "Game engine book?  \n",
    "Physics textbook?"
   ]
  },
  {
   "cell_type": "markdown",
   "metadata": {},
   "source": [
    "# Geometry of Linear Equations"
   ]
  },
  {
   "cell_type": "code",
   "execution_count": 1,
   "metadata": {},
   "outputs": [],
   "source": [
    "using Plots\n",
    "gr();"
   ]
  },
  {
   "cell_type": "markdown",
   "metadata": {},
   "source": [
    "## Lecture Notes"
   ]
  },
  {
   "cell_type": "markdown",
   "metadata": {},
   "source": [
    "### Systems of linear equations in matrix form Ax = b"
   ]
  },
  {
   "cell_type": "code",
   "execution_count": 2,
   "metadata": {},
   "outputs": [
    {
     "ename": "LoadError",
     "evalue": "\u001b[91msyntax: \"*(2,x)\" is not a valid function argument name\u001b[39m",
     "output_type": "error",
     "traceback": [
      "\u001b[91msyntax: \"*(2,x)\" is not a valid function argument name\u001b[39m",
      ""
     ]
    }
   ],
   "source": [
    "# Row Picture\n",
    "2x - y = 0\n",
    "-x + 2y = 3\n",
    "\n",
    "# Column Picture\n",
    "[2; -1]x + [-1; 2]y = [0; 3]\n",
    "\n",
    "# Matrix Picture\n",
    "A = [ 2 -1\n",
    "     -1  2]\n",
    "x = [x\n",
    "     y]\n",
    "b = [0\n",
    "     3]\n",
    "Ax = b"
   ]
  },
  {
   "cell_type": "code",
   "execution_count": 3,
   "metadata": {},
   "outputs": [
    {
     "data": {
      "image/svg+xml": [
       "<?xml version=\"1.0\" encoding=\"utf-8\"?>\n",
       "<svg xmlns=\"http://www.w3.org/2000/svg\" xmlns:xlink=\"http://www.w3.org/1999/xlink\" width=\"600\" height=\"400\" viewBox=\"0 0 600 400\">\n",
       "<defs>\n",
       "  <clipPath id=\"clip0900\">\n",
       "    <rect x=\"0\" y=\"0\" width=\"600\" height=\"400\"/>\n",
       "  </clipPath>\n",
       "</defs>\n",
       "<polygon clip-path=\"url(#clip0900)\" points=\"\n",
       "0,400 600,400 600,0 0,0 \n",
       "  \" fill=\"#ffffff\" fill-opacity=\"1\"/>\n",
       "<defs>\n",
       "  <clipPath id=\"clip0901\">\n",
       "    <rect x=\"120\" y=\"0\" width=\"421\" height=\"400\"/>\n",
       "  </clipPath>\n",
       "</defs>\n",
       "<polygon clip-path=\"url(#clip0900)\" points=\"\n",
       "29.4661,375.869 580.315,375.869 580.315,31.4961 29.4661,31.4961 \n",
       "  \" fill=\"#ffffff\" fill-opacity=\"1\"/>\n",
       "<defs>\n",
       "  <clipPath id=\"clip0902\">\n",
       "    <rect x=\"29\" y=\"31\" width=\"552\" height=\"345\"/>\n",
       "  </clipPath>\n",
       "</defs>\n",
       "<polyline clip-path=\"url(#clip0902)\" style=\"stroke:#000000; stroke-width:0.5; stroke-opacity:0.1; fill:none\" points=\"\n",
       "  29.4661,375.869 29.4661,31.4961 \n",
       "  \"/>\n",
       "<polyline clip-path=\"url(#clip0902)\" style=\"stroke:#000000; stroke-width:0.5; stroke-opacity:0.1; fill:none\" points=\"\n",
       "  167.178,375.869 167.178,31.4961 \n",
       "  \"/>\n",
       "<polyline clip-path=\"url(#clip0902)\" style=\"stroke:#000000; stroke-width:0.5; stroke-opacity:0.1; fill:none\" points=\"\n",
       "  304.891,375.869 304.891,31.4961 \n",
       "  \"/>\n",
       "<polyline clip-path=\"url(#clip0902)\" style=\"stroke:#000000; stroke-width:0.5; stroke-opacity:0.1; fill:none\" points=\"\n",
       "  442.603,375.869 442.603,31.4961 \n",
       "  \"/>\n",
       "<polyline clip-path=\"url(#clip0902)\" style=\"stroke:#000000; stroke-width:0.5; stroke-opacity:0.1; fill:none\" points=\"\n",
       "  580.315,375.869 580.315,31.4961 \n",
       "  \"/>\n",
       "<polyline clip-path=\"url(#clip0902)\" style=\"stroke:#000000; stroke-width:0.5; stroke-opacity:0.1; fill:none\" points=\"\n",
       "  29.4661,375.869 580.315,375.869 \n",
       "  \"/>\n",
       "<polyline clip-path=\"url(#clip0902)\" style=\"stroke:#000000; stroke-width:0.5; stroke-opacity:0.1; fill:none\" points=\"\n",
       "  29.4661,289.776 580.315,289.776 \n",
       "  \"/>\n",
       "<polyline clip-path=\"url(#clip0902)\" style=\"stroke:#000000; stroke-width:0.5; stroke-opacity:0.1; fill:none\" points=\"\n",
       "  29.4661,203.682 580.315,203.682 \n",
       "  \"/>\n",
       "<polyline clip-path=\"url(#clip0902)\" style=\"stroke:#000000; stroke-width:0.5; stroke-opacity:0.1; fill:none\" points=\"\n",
       "  29.4661,117.589 580.315,117.589 \n",
       "  \"/>\n",
       "<polyline clip-path=\"url(#clip0902)\" style=\"stroke:#000000; stroke-width:0.5; stroke-opacity:0.1; fill:none\" points=\"\n",
       "  29.4661,31.4961 580.315,31.4961 \n",
       "  \"/>\n",
       "<polyline clip-path=\"url(#clip0900)\" style=\"stroke:#000000; stroke-width:1; stroke-opacity:1; fill:none\" points=\"\n",
       "  29.4661,375.869 580.315,375.869 \n",
       "  \"/>\n",
       "<polyline clip-path=\"url(#clip0900)\" style=\"stroke:#000000; stroke-width:1; stroke-opacity:1; fill:none\" points=\"\n",
       "  29.4661,375.869 29.4661,31.4961 \n",
       "  \"/>\n",
       "<polyline clip-path=\"url(#clip0900)\" style=\"stroke:#000000; stroke-width:1; stroke-opacity:1; fill:none\" points=\"\n",
       "  29.4661,375.869 29.4661,370.703 \n",
       "  \"/>\n",
       "<polyline clip-path=\"url(#clip0900)\" style=\"stroke:#000000; stroke-width:1; stroke-opacity:1; fill:none\" points=\"\n",
       "  167.178,375.869 167.178,370.703 \n",
       "  \"/>\n",
       "<polyline clip-path=\"url(#clip0900)\" style=\"stroke:#000000; stroke-width:1; stroke-opacity:1; fill:none\" points=\"\n",
       "  304.891,375.869 304.891,370.703 \n",
       "  \"/>\n",
       "<polyline clip-path=\"url(#clip0900)\" style=\"stroke:#000000; stroke-width:1; stroke-opacity:1; fill:none\" points=\"\n",
       "  442.603,375.869 442.603,370.703 \n",
       "  \"/>\n",
       "<polyline clip-path=\"url(#clip0900)\" style=\"stroke:#000000; stroke-width:1; stroke-opacity:1; fill:none\" points=\"\n",
       "  580.315,375.869 580.315,370.703 \n",
       "  \"/>\n",
       "<polyline clip-path=\"url(#clip0900)\" style=\"stroke:#000000; stroke-width:1; stroke-opacity:1; fill:none\" points=\"\n",
       "  29.4661,375.869 37.7289,375.869 \n",
       "  \"/>\n",
       "<polyline clip-path=\"url(#clip0900)\" style=\"stroke:#000000; stroke-width:1; stroke-opacity:1; fill:none\" points=\"\n",
       "  29.4661,289.776 37.7289,289.776 \n",
       "  \"/>\n",
       "<polyline clip-path=\"url(#clip0900)\" style=\"stroke:#000000; stroke-width:1; stroke-opacity:1; fill:none\" points=\"\n",
       "  29.4661,203.682 37.7289,203.682 \n",
       "  \"/>\n",
       "<polyline clip-path=\"url(#clip0900)\" style=\"stroke:#000000; stroke-width:1; stroke-opacity:1; fill:none\" points=\"\n",
       "  29.4661,117.589 37.7289,117.589 \n",
       "  \"/>\n",
       "<polyline clip-path=\"url(#clip0900)\" style=\"stroke:#000000; stroke-width:1; stroke-opacity:1; fill:none\" points=\"\n",
       "  29.4661,31.4961 37.7289,31.4961 \n",
       "  \"/>\n",
       "<g clip-path=\"url(#clip0900)\">\n",
       "<text style=\"fill:#000000; fill-opacity:1; font-family:Arial,Helvetica Neue,Helvetica,sans-serif; font-size:12; text-anchor:middle;\" transform=\"rotate(0, 29.4661, 389.669)\" x=\"29.4661\" y=\"389.669\">-4</text>\n",
       "</g>\n",
       "<g clip-path=\"url(#clip0900)\">\n",
       "<text style=\"fill:#000000; fill-opacity:1; font-family:Arial,Helvetica Neue,Helvetica,sans-serif; font-size:12; text-anchor:middle;\" transform=\"rotate(0, 167.178, 389.669)\" x=\"167.178\" y=\"389.669\">-2</text>\n",
       "</g>\n",
       "<g clip-path=\"url(#clip0900)\">\n",
       "<text style=\"fill:#000000; fill-opacity:1; font-family:Arial,Helvetica Neue,Helvetica,sans-serif; font-size:12; text-anchor:middle;\" transform=\"rotate(0, 304.891, 389.669)\" x=\"304.891\" y=\"389.669\">0</text>\n",
       "</g>\n",
       "<g clip-path=\"url(#clip0900)\">\n",
       "<text style=\"fill:#000000; fill-opacity:1; font-family:Arial,Helvetica Neue,Helvetica,sans-serif; font-size:12; text-anchor:middle;\" transform=\"rotate(0, 442.603, 389.669)\" x=\"442.603\" y=\"389.669\">2</text>\n",
       "</g>\n",
       "<g clip-path=\"url(#clip0900)\">\n",
       "<text style=\"fill:#000000; fill-opacity:1; font-family:Arial,Helvetica Neue,Helvetica,sans-serif; font-size:12; text-anchor:middle;\" transform=\"rotate(0, 580.315, 389.669)\" x=\"580.315\" y=\"389.669\">4</text>\n",
       "</g>\n",
       "<g clip-path=\"url(#clip0900)\">\n",
       "<text style=\"fill:#000000; fill-opacity:1; font-family:Arial,Helvetica Neue,Helvetica,sans-serif; font-size:12; text-anchor:end;\" transform=\"rotate(0, 23.4661, 380.369)\" x=\"23.4661\" y=\"380.369\">-4</text>\n",
       "</g>\n",
       "<g clip-path=\"url(#clip0900)\">\n",
       "<text style=\"fill:#000000; fill-opacity:1; font-family:Arial,Helvetica Neue,Helvetica,sans-serif; font-size:12; text-anchor:end;\" transform=\"rotate(0, 23.4661, 294.276)\" x=\"23.4661\" y=\"294.276\">-2</text>\n",
       "</g>\n",
       "<g clip-path=\"url(#clip0900)\">\n",
       "<text style=\"fill:#000000; fill-opacity:1; font-family:Arial,Helvetica Neue,Helvetica,sans-serif; font-size:12; text-anchor:end;\" transform=\"rotate(0, 23.4661, 208.182)\" x=\"23.4661\" y=\"208.182\">0</text>\n",
       "</g>\n",
       "<g clip-path=\"url(#clip0900)\">\n",
       "<text style=\"fill:#000000; fill-opacity:1; font-family:Arial,Helvetica Neue,Helvetica,sans-serif; font-size:12; text-anchor:end;\" transform=\"rotate(0, 23.4661, 122.089)\" x=\"23.4661\" y=\"122.089\">2</text>\n",
       "</g>\n",
       "<g clip-path=\"url(#clip0900)\">\n",
       "<text style=\"fill:#000000; fill-opacity:1; font-family:Arial,Helvetica Neue,Helvetica,sans-serif; font-size:12; text-anchor:end;\" transform=\"rotate(0, 23.4661, 35.9961)\" x=\"23.4661\" y=\"35.9961\">4</text>\n",
       "</g>\n",
       "<g clip-path=\"url(#clip0900)\">\n",
       "<text style=\"fill:#000000; fill-opacity:1; font-family:Arial,Helvetica Neue,Helvetica,sans-serif; font-size:21; text-anchor:middle;\" transform=\"rotate(0, 304.891, 18)\" x=\"304.891\" y=\"18\">Row Picture</text>\n",
       "</g>\n",
       "<polyline clip-path=\"url(#clip0902)\" style=\"stroke:#009af9; stroke-width:1; stroke-opacity:1; fill:none\" points=\"\n",
       "  -383.67,1064.61 -314.814,978.521 -245.958,892.428 -177.102,806.334 -108.246,720.241 -39.39,634.148 29.4661,548.055 98.3222,461.962 167.178,375.869 236.034,289.776 \n",
       "  304.891,203.682 373.747,117.589 442.603,31.4961 511.459,-54.5971 580.315,-140.69 649.171,-226.783 718.027,-312.877 786.883,-398.97 855.739,-485.063 924.595,-571.156 \n",
       "  993.452,-657.249 \n",
       "  \"/>\n",
       "<polyline clip-path=\"url(#clip0902)\" style=\"stroke:#e26f46; stroke-width:1; stroke-opacity:1; fill:none\" points=\"\n",
       "  -383.67,354.345 -314.814,332.822 -245.958,311.299 -177.102,289.776 -108.246,268.252 -39.39,246.729 29.4661,225.206 98.3222,203.682 167.178,182.159 236.034,160.636 \n",
       "  304.891,139.113 373.747,117.589 442.603,96.0659 511.459,74.5426 580.315,53.0194 649.171,31.4961 718.027,9.97277 786.883,-11.5505 855.739,-33.0738 924.595,-54.5971 \n",
       "  993.452,-76.1204 \n",
       "  \"/>\n",
       "<circle clip-path=\"url(#clip0902)\" style=\"fill:#000000; stroke:none; fill-opacity:1\" cx=\"373.747\" cy=\"117.589\" r=\"4\"/>\n",
       "<circle clip-path=\"url(#clip0902)\" style=\"fill:#3da44d; stroke:none; fill-opacity:1\" cx=\"373.747\" cy=\"117.589\" r=\"3\"/>\n",
       "<polygon clip-path=\"url(#clip0900)\" points=\"\n",
       "440.788,112.856 562.315,112.856 562.315,52.3761 440.788,52.3761 \n",
       "  \" fill=\"#ffffff\" fill-opacity=\"1\"/>\n",
       "<polyline clip-path=\"url(#clip0900)\" style=\"stroke:#000000; stroke-width:1; stroke-opacity:1; fill:none\" points=\"\n",
       "  440.788,112.856 562.315,112.856 562.315,52.3761 440.788,52.3761 440.788,112.856 \n",
       "  \"/>\n",
       "<polyline clip-path=\"url(#clip0900)\" style=\"stroke:#009af9; stroke-width:1; stroke-opacity:1; fill:none\" points=\"\n",
       "  446.788,67.4961 482.788,67.4961 \n",
       "  \"/>\n",
       "<g clip-path=\"url(#clip0900)\">\n",
       "<text style=\"fill:#000000; fill-opacity:1; font-family:Arial,Helvetica Neue,Helvetica,sans-serif; font-size:12; text-anchor:start;\" transform=\"rotate(0, 488.788, 71.9961)\" x=\"488.788\" y=\"71.9961\">2x - y = 0</text>\n",
       "</g>\n",
       "<polyline clip-path=\"url(#clip0900)\" style=\"stroke:#e26f46; stroke-width:1; stroke-opacity:1; fill:none\" points=\"\n",
       "  446.788,82.6161 482.788,82.6161 \n",
       "  \"/>\n",
       "<g clip-path=\"url(#clip0900)\">\n",
       "<text style=\"fill:#000000; fill-opacity:1; font-family:Arial,Helvetica Neue,Helvetica,sans-serif; font-size:12; text-anchor:start;\" transform=\"rotate(0, 488.788, 87.1161)\" x=\"488.788\" y=\"87.1161\">-x + 2y = 3</text>\n",
       "</g>\n",
       "<circle clip-path=\"url(#clip0900)\" style=\"fill:#000000; stroke:none; fill-opacity:1\" cx=\"467.788\" cy=\"97.7361\" r=\"6\"/>\n",
       "<circle clip-path=\"url(#clip0900)\" style=\"fill:#3da44d; stroke:none; fill-opacity:1\" cx=\"467.788\" cy=\"97.7361\" r=\"5\"/>\n",
       "<g clip-path=\"url(#clip0900)\">\n",
       "<text style=\"fill:#000000; fill-opacity:1; font-family:Arial,Helvetica Neue,Helvetica,sans-serif; font-size:12; text-anchor:start;\" transform=\"rotate(0, 488.788, 102.236)\" x=\"488.788\" y=\"102.236\">intersection</text>\n",
       "</g>\n",
       "</svg>\n"
      ]
     },
     "execution_count": 3,
     "metadata": {},
     "output_type": "execute_result"
    }
   ],
   "source": [
    "# Row Picture of linear equations\n",
    "# In 2D, solves for the intersection of the lines\n",
    "x = -10:10\n",
    "f(x) = 2x\n",
    "f2(x) = (3 + x) / 2\n",
    "scale = 4\n",
    "plot(x, f, title=\"Row Picture\", label=\"2x - y = 0\", xlim=(-scale, scale), ylim=(-scale, scale))\n",
    "plot!(x, f2, label=\"-x + 2y = 3\")\n",
    "plot!((1, 2), seriestype=:scatter, label=\"intersection\")"
   ]
  },
  {
   "cell_type": "code",
   "execution_count": 4,
   "metadata": {},
   "outputs": [
    {
     "data": {
      "image/svg+xml": [
       "<?xml version=\"1.0\" encoding=\"utf-8\"?>\n",
       "<svg xmlns=\"http://www.w3.org/2000/svg\" xmlns:xlink=\"http://www.w3.org/1999/xlink\" width=\"600\" height=\"400\" viewBox=\"0 0 600 400\">\n",
       "<defs>\n",
       "  <clipPath id=\"clip1100\">\n",
       "    <rect x=\"0\" y=\"0\" width=\"600\" height=\"400\"/>\n",
       "  </clipPath>\n",
       "</defs>\n",
       "<polygon clip-path=\"url(#clip1100)\" points=\"\n",
       "0,400 600,400 600,0 0,0 \n",
       "  \" fill=\"#ffffff\" fill-opacity=\"1\"/>\n",
       "<defs>\n",
       "  <clipPath id=\"clip1101\">\n",
       "    <rect x=\"120\" y=\"0\" width=\"421\" height=\"400\"/>\n",
       "  </clipPath>\n",
       "</defs>\n",
       "<polygon clip-path=\"url(#clip1100)\" points=\"\n",
       "29.4661,375.869 580.315,375.869 580.315,31.4961 29.4661,31.4961 \n",
       "  \" fill=\"#ffffff\" fill-opacity=\"1\"/>\n",
       "<defs>\n",
       "  <clipPath id=\"clip1102\">\n",
       "    <rect x=\"29\" y=\"31\" width=\"552\" height=\"345\"/>\n",
       "  </clipPath>\n",
       "</defs>\n",
       "<polyline clip-path=\"url(#clip1102)\" style=\"stroke:#000000; stroke-width:0.5; stroke-opacity:0.1; fill:none\" points=\"\n",
       "  29.4661,375.869 29.4661,31.4961 \n",
       "  \"/>\n",
       "<polyline clip-path=\"url(#clip1102)\" style=\"stroke:#000000; stroke-width:0.5; stroke-opacity:0.1; fill:none\" points=\"\n",
       "  121.274,375.869 121.274,31.4961 \n",
       "  \"/>\n",
       "<polyline clip-path=\"url(#clip1102)\" style=\"stroke:#000000; stroke-width:0.5; stroke-opacity:0.1; fill:none\" points=\"\n",
       "  213.082,375.869 213.082,31.4961 \n",
       "  \"/>\n",
       "<polyline clip-path=\"url(#clip1102)\" style=\"stroke:#000000; stroke-width:0.5; stroke-opacity:0.1; fill:none\" points=\"\n",
       "  304.891,375.869 304.891,31.4961 \n",
       "  \"/>\n",
       "<polyline clip-path=\"url(#clip1102)\" style=\"stroke:#000000; stroke-width:0.5; stroke-opacity:0.1; fill:none\" points=\"\n",
       "  396.699,375.869 396.699,31.4961 \n",
       "  \"/>\n",
       "<polyline clip-path=\"url(#clip1102)\" style=\"stroke:#000000; stroke-width:0.5; stroke-opacity:0.1; fill:none\" points=\"\n",
       "  488.507,375.869 488.507,31.4961 \n",
       "  \"/>\n",
       "<polyline clip-path=\"url(#clip1102)\" style=\"stroke:#000000; stroke-width:0.5; stroke-opacity:0.1; fill:none\" points=\"\n",
       "  580.315,375.869 580.315,31.4961 \n",
       "  \"/>\n",
       "<polyline clip-path=\"url(#clip1102)\" style=\"stroke:#000000; stroke-width:0.5; stroke-opacity:0.1; fill:none\" points=\"\n",
       "  29.4661,375.869 580.315,375.869 \n",
       "  \"/>\n",
       "<polyline clip-path=\"url(#clip1102)\" style=\"stroke:#000000; stroke-width:0.5; stroke-opacity:0.1; fill:none\" points=\"\n",
       "  29.4661,318.473 580.315,318.473 \n",
       "  \"/>\n",
       "<polyline clip-path=\"url(#clip1102)\" style=\"stroke:#000000; stroke-width:0.5; stroke-opacity:0.1; fill:none\" points=\"\n",
       "  29.4661,261.078 580.315,261.078 \n",
       "  \"/>\n",
       "<polyline clip-path=\"url(#clip1102)\" style=\"stroke:#000000; stroke-width:0.5; stroke-opacity:0.1; fill:none\" points=\"\n",
       "  29.4661,203.682 580.315,203.682 \n",
       "  \"/>\n",
       "<polyline clip-path=\"url(#clip1102)\" style=\"stroke:#000000; stroke-width:0.5; stroke-opacity:0.1; fill:none\" points=\"\n",
       "  29.4661,146.287 580.315,146.287 \n",
       "  \"/>\n",
       "<polyline clip-path=\"url(#clip1102)\" style=\"stroke:#000000; stroke-width:0.5; stroke-opacity:0.1; fill:none\" points=\"\n",
       "  29.4661,88.8915 580.315,88.8915 \n",
       "  \"/>\n",
       "<polyline clip-path=\"url(#clip1102)\" style=\"stroke:#000000; stroke-width:0.5; stroke-opacity:0.1; fill:none\" points=\"\n",
       "  29.4661,31.4961 580.315,31.4961 \n",
       "  \"/>\n",
       "<polyline clip-path=\"url(#clip1100)\" style=\"stroke:#000000; stroke-width:1; stroke-opacity:1; fill:none\" points=\"\n",
       "  29.4661,375.869 580.315,375.869 \n",
       "  \"/>\n",
       "<polyline clip-path=\"url(#clip1100)\" style=\"stroke:#000000; stroke-width:1; stroke-opacity:1; fill:none\" points=\"\n",
       "  29.4661,375.869 29.4661,31.4961 \n",
       "  \"/>\n",
       "<polyline clip-path=\"url(#clip1100)\" style=\"stroke:#000000; stroke-width:1; stroke-opacity:1; fill:none\" points=\"\n",
       "  29.4661,375.869 29.4661,370.703 \n",
       "  \"/>\n",
       "<polyline clip-path=\"url(#clip1100)\" style=\"stroke:#000000; stroke-width:1; stroke-opacity:1; fill:none\" points=\"\n",
       "  121.274,375.869 121.274,370.703 \n",
       "  \"/>\n",
       "<polyline clip-path=\"url(#clip1100)\" style=\"stroke:#000000; stroke-width:1; stroke-opacity:1; fill:none\" points=\"\n",
       "  213.082,375.869 213.082,370.703 \n",
       "  \"/>\n",
       "<polyline clip-path=\"url(#clip1100)\" style=\"stroke:#000000; stroke-width:1; stroke-opacity:1; fill:none\" points=\"\n",
       "  304.891,375.869 304.891,370.703 \n",
       "  \"/>\n",
       "<polyline clip-path=\"url(#clip1100)\" style=\"stroke:#000000; stroke-width:1; stroke-opacity:1; fill:none\" points=\"\n",
       "  396.699,375.869 396.699,370.703 \n",
       "  \"/>\n",
       "<polyline clip-path=\"url(#clip1100)\" style=\"stroke:#000000; stroke-width:1; stroke-opacity:1; fill:none\" points=\"\n",
       "  488.507,375.869 488.507,370.703 \n",
       "  \"/>\n",
       "<polyline clip-path=\"url(#clip1100)\" style=\"stroke:#000000; stroke-width:1; stroke-opacity:1; fill:none\" points=\"\n",
       "  580.315,375.869 580.315,370.703 \n",
       "  \"/>\n",
       "<polyline clip-path=\"url(#clip1100)\" style=\"stroke:#000000; stroke-width:1; stroke-opacity:1; fill:none\" points=\"\n",
       "  29.4661,375.869 37.7289,375.869 \n",
       "  \"/>\n",
       "<polyline clip-path=\"url(#clip1100)\" style=\"stroke:#000000; stroke-width:1; stroke-opacity:1; fill:none\" points=\"\n",
       "  29.4661,318.473 37.7289,318.473 \n",
       "  \"/>\n",
       "<polyline clip-path=\"url(#clip1100)\" style=\"stroke:#000000; stroke-width:1; stroke-opacity:1; fill:none\" points=\"\n",
       "  29.4661,261.078 37.7289,261.078 \n",
       "  \"/>\n",
       "<polyline clip-path=\"url(#clip1100)\" style=\"stroke:#000000; stroke-width:1; stroke-opacity:1; fill:none\" points=\"\n",
       "  29.4661,203.682 37.7289,203.682 \n",
       "  \"/>\n",
       "<polyline clip-path=\"url(#clip1100)\" style=\"stroke:#000000; stroke-width:1; stroke-opacity:1; fill:none\" points=\"\n",
       "  29.4661,146.287 37.7289,146.287 \n",
       "  \"/>\n",
       "<polyline clip-path=\"url(#clip1100)\" style=\"stroke:#000000; stroke-width:1; stroke-opacity:1; fill:none\" points=\"\n",
       "  29.4661,88.8915 37.7289,88.8915 \n",
       "  \"/>\n",
       "<polyline clip-path=\"url(#clip1100)\" style=\"stroke:#000000; stroke-width:1; stroke-opacity:1; fill:none\" points=\"\n",
       "  29.4661,31.4961 37.7289,31.4961 \n",
       "  \"/>\n",
       "<g clip-path=\"url(#clip1100)\">\n",
       "<text style=\"fill:#000000; fill-opacity:1; font-family:Arial,Helvetica Neue,Helvetica,sans-serif; font-size:12; text-anchor:middle;\" transform=\"rotate(0, 29.4661, 389.669)\" x=\"29.4661\" y=\"389.669\">-2</text>\n",
       "</g>\n",
       "<g clip-path=\"url(#clip1100)\">\n",
       "<text style=\"fill:#000000; fill-opacity:1; font-family:Arial,Helvetica Neue,Helvetica,sans-serif; font-size:12; text-anchor:middle;\" transform=\"rotate(0, 121.274, 389.669)\" x=\"121.274\" y=\"389.669\">-1</text>\n",
       "</g>\n",
       "<g clip-path=\"url(#clip1100)\">\n",
       "<text style=\"fill:#000000; fill-opacity:1; font-family:Arial,Helvetica Neue,Helvetica,sans-serif; font-size:12; text-anchor:middle;\" transform=\"rotate(0, 213.082, 389.669)\" x=\"213.082\" y=\"389.669\">0</text>\n",
       "</g>\n",
       "<g clip-path=\"url(#clip1100)\">\n",
       "<text style=\"fill:#000000; fill-opacity:1; font-family:Arial,Helvetica Neue,Helvetica,sans-serif; font-size:12; text-anchor:middle;\" transform=\"rotate(0, 304.891, 389.669)\" x=\"304.891\" y=\"389.669\">1</text>\n",
       "</g>\n",
       "<g clip-path=\"url(#clip1100)\">\n",
       "<text style=\"fill:#000000; fill-opacity:1; font-family:Arial,Helvetica Neue,Helvetica,sans-serif; font-size:12; text-anchor:middle;\" transform=\"rotate(0, 396.699, 389.669)\" x=\"396.699\" y=\"389.669\">2</text>\n",
       "</g>\n",
       "<g clip-path=\"url(#clip1100)\">\n",
       "<text style=\"fill:#000000; fill-opacity:1; font-family:Arial,Helvetica Neue,Helvetica,sans-serif; font-size:12; text-anchor:middle;\" transform=\"rotate(0, 488.507, 389.669)\" x=\"488.507\" y=\"389.669\">3</text>\n",
       "</g>\n",
       "<g clip-path=\"url(#clip1100)\">\n",
       "<text style=\"fill:#000000; fill-opacity:1; font-family:Arial,Helvetica Neue,Helvetica,sans-serif; font-size:12; text-anchor:middle;\" transform=\"rotate(0, 580.315, 389.669)\" x=\"580.315\" y=\"389.669\">4</text>\n",
       "</g>\n",
       "<g clip-path=\"url(#clip1100)\">\n",
       "<text style=\"fill:#000000; fill-opacity:1; font-family:Arial,Helvetica Neue,Helvetica,sans-serif; font-size:12; text-anchor:end;\" transform=\"rotate(0, 23.4661, 380.369)\" x=\"23.4661\" y=\"380.369\">-2</text>\n",
       "</g>\n",
       "<g clip-path=\"url(#clip1100)\">\n",
       "<text style=\"fill:#000000; fill-opacity:1; font-family:Arial,Helvetica Neue,Helvetica,sans-serif; font-size:12; text-anchor:end;\" transform=\"rotate(0, 23.4661, 322.973)\" x=\"23.4661\" y=\"322.973\">-1</text>\n",
       "</g>\n",
       "<g clip-path=\"url(#clip1100)\">\n",
       "<text style=\"fill:#000000; fill-opacity:1; font-family:Arial,Helvetica Neue,Helvetica,sans-serif; font-size:12; text-anchor:end;\" transform=\"rotate(0, 23.4661, 265.578)\" x=\"23.4661\" y=\"265.578\">0</text>\n",
       "</g>\n",
       "<g clip-path=\"url(#clip1100)\">\n",
       "<text style=\"fill:#000000; fill-opacity:1; font-family:Arial,Helvetica Neue,Helvetica,sans-serif; font-size:12; text-anchor:end;\" transform=\"rotate(0, 23.4661, 208.182)\" x=\"23.4661\" y=\"208.182\">1</text>\n",
       "</g>\n",
       "<g clip-path=\"url(#clip1100)\">\n",
       "<text style=\"fill:#000000; fill-opacity:1; font-family:Arial,Helvetica Neue,Helvetica,sans-serif; font-size:12; text-anchor:end;\" transform=\"rotate(0, 23.4661, 150.787)\" x=\"23.4661\" y=\"150.787\">2</text>\n",
       "</g>\n",
       "<g clip-path=\"url(#clip1100)\">\n",
       "<text style=\"fill:#000000; fill-opacity:1; font-family:Arial,Helvetica Neue,Helvetica,sans-serif; font-size:12; text-anchor:end;\" transform=\"rotate(0, 23.4661, 93.3915)\" x=\"23.4661\" y=\"93.3915\">3</text>\n",
       "</g>\n",
       "<g clip-path=\"url(#clip1100)\">\n",
       "<text style=\"fill:#000000; fill-opacity:1; font-family:Arial,Helvetica Neue,Helvetica,sans-serif; font-size:12; text-anchor:end;\" transform=\"rotate(0, 23.4661, 35.9961)\" x=\"23.4661\" y=\"35.9961\">4</text>\n",
       "</g>\n",
       "<g clip-path=\"url(#clip1100)\">\n",
       "<text style=\"fill:#000000; fill-opacity:1; font-family:Arial,Helvetica Neue,Helvetica,sans-serif; font-size:21; text-anchor:middle;\" transform=\"rotate(0, 304.891, 18)\" x=\"304.891\" y=\"18\">Column Picture</text>\n",
       "</g>\n",
       "<polyline clip-path=\"url(#clip1102)\" style=\"stroke:#009af9; stroke-width:3; stroke-opacity:1; fill:none\" points=\"\n",
       "  213.082,261.078 396.699,318.473 \n",
       "  \"/>\n",
       "<polyline clip-path=\"url(#clip1102)\" style=\"stroke:#009af9; stroke-width:3; stroke-opacity:1; fill:none\" points=\"\n",
       "  389.451,311.493 396.699,318.473 386.766,320.083 \n",
       "  \"/>\n",
       "<polyline clip-path=\"url(#clip1102)\" style=\"stroke:#009af9; stroke-width:3; stroke-opacity:1; fill:none\" points=\"\n",
       "  396.699,318.473 213.082,261.078 \n",
       "  \"/>\n",
       "<polyline clip-path=\"url(#clip1102)\" style=\"stroke:#e26f46; stroke-width:1; stroke-opacity:1; fill:none\" points=\"\n",
       "  213.082,261.078 121.274,146.287 \n",
       "  \"/>\n",
       "<polyline clip-path=\"url(#clip1102)\" style=\"stroke:#e26f46; stroke-width:1; stroke-opacity:1; fill:none\" points=\"\n",
       "  123.381,156.126 121.274,146.287 130.41,150.505 \n",
       "  \"/>\n",
       "<polyline clip-path=\"url(#clip1102)\" style=\"stroke:#e26f46; stroke-width:1; stroke-opacity:1; fill:none\" points=\"\n",
       "  121.274,146.287 213.082,261.078 \n",
       "  \"/>\n",
       "<polyline clip-path=\"url(#clip1102)\" style=\"stroke:#3da44d; stroke-width:5; stroke-opacity:1; fill:none\" points=\"\n",
       "  213.082,261.078 213.082,88.8915 \n",
       "  \"/>\n",
       "<polyline clip-path=\"url(#clip1102)\" style=\"stroke:#3da44d; stroke-width:5; stroke-opacity:1; fill:none\" points=\"\n",
       "  208.582,97.8915 213.082,88.8915 217.582,97.8915 \n",
       "  \"/>\n",
       "<polyline clip-path=\"url(#clip1102)\" style=\"stroke:#3da44d; stroke-width:5; stroke-opacity:1; fill:none\" points=\"\n",
       "  213.082,88.8915 213.082,261.078 \n",
       "  \"/>\n",
       "<polyline clip-path=\"url(#clip1102)\" style=\"stroke:#c271d2; stroke-width:3; stroke-opacity:1; fill:none\" points=\"\n",
       "  396.699,318.473 304.891,203.682 \n",
       "  \"/>\n",
       "<polyline clip-path=\"url(#clip1102)\" style=\"stroke:#c271d2; stroke-width:3; stroke-opacity:1; fill:none\" points=\"\n",
       "  306.998,213.522 304.891,203.682 314.026,207.9 \n",
       "  \"/>\n",
       "<polyline clip-path=\"url(#clip1102)\" style=\"stroke:#c271d2; stroke-width:3; stroke-opacity:1; fill:none\" points=\"\n",
       "  304.891,203.682 396.699,318.473 \n",
       "  \"/>\n",
       "<polyline clip-path=\"url(#clip1102)\" style=\"stroke:#ac8d18; stroke-width:3; stroke-opacity:1; fill:none\" points=\"\n",
       "  304.891,203.682 213.082,88.8915 \n",
       "  \"/>\n",
       "<polyline clip-path=\"url(#clip1102)\" style=\"stroke:#ac8d18; stroke-width:3; stroke-opacity:1; fill:none\" points=\"\n",
       "  215.189,98.7307 213.082,88.8915 222.218,93.1094 \n",
       "  \"/>\n",
       "<polyline clip-path=\"url(#clip1102)\" style=\"stroke:#ac8d18; stroke-width:3; stroke-opacity:1; fill:none\" points=\"\n",
       "  213.082,88.8915 304.891,203.682 \n",
       "  \"/>\n",
       "<polygon clip-path=\"url(#clip1100)\" points=\"\n",
       "476.563,143.096 562.315,143.096 562.315,52.3761 476.563,52.3761 \n",
       "  \" fill=\"#ffffff\" fill-opacity=\"1\"/>\n",
       "<polyline clip-path=\"url(#clip1100)\" style=\"stroke:#000000; stroke-width:1; stroke-opacity:1; fill:none\" points=\"\n",
       "  476.563,143.096 562.315,143.096 562.315,52.3761 476.563,52.3761 476.563,143.096 \n",
       "  \"/>\n",
       "<polyline clip-path=\"url(#clip1100)\" style=\"stroke:#009af9; stroke-width:3; stroke-opacity:1; fill:none\" points=\"\n",
       "  482.563,67.4961 518.563,67.4961 \n",
       "  \"/>\n",
       "<g clip-path=\"url(#clip1100)\">\n",
       "<text style=\"fill:#000000; fill-opacity:1; font-family:Arial,Helvetica Neue,Helvetica,sans-serif; font-size:12; text-anchor:start;\" transform=\"rotate(0, 524.563, 71.9961)\" x=\"524.563\" y=\"71.9961\">x</text>\n",
       "</g>\n",
       "<polyline clip-path=\"url(#clip1100)\" style=\"stroke:#e26f46; stroke-width:1; stroke-opacity:1; fill:none\" points=\"\n",
       "  482.563,82.6161 518.563,82.6161 \n",
       "  \"/>\n",
       "<g clip-path=\"url(#clip1100)\">\n",
       "<text style=\"fill:#000000; fill-opacity:1; font-family:Arial,Helvetica Neue,Helvetica,sans-serif; font-size:12; text-anchor:start;\" transform=\"rotate(0, 524.563, 87.1161)\" x=\"524.563\" y=\"87.1161\">y</text>\n",
       "</g>\n",
       "<polyline clip-path=\"url(#clip1100)\" style=\"stroke:#3da44d; stroke-width:5; stroke-opacity:1; fill:none\" points=\"\n",
       "  482.563,97.7361 518.563,97.7361 \n",
       "  \"/>\n",
       "<g clip-path=\"url(#clip1100)\">\n",
       "<text style=\"fill:#000000; fill-opacity:1; font-family:Arial,Helvetica Neue,Helvetica,sans-serif; font-size:12; text-anchor:start;\" transform=\"rotate(0, 524.563, 102.236)\" x=\"524.563\" y=\"102.236\">b</text>\n",
       "</g>\n",
       "<polyline clip-path=\"url(#clip1100)\" style=\"stroke:#c271d2; stroke-width:3; stroke-opacity:1; fill:none\" points=\"\n",
       "  482.563,112.856 518.563,112.856 \n",
       "  \"/>\n",
       "<g clip-path=\"url(#clip1100)\">\n",
       "<text style=\"fill:#000000; fill-opacity:1; font-family:Arial,Helvetica Neue,Helvetica,sans-serif; font-size:12; text-anchor:start;\" transform=\"rotate(0, 524.563, 117.356)\" x=\"524.563\" y=\"117.356\">x+y</text>\n",
       "</g>\n",
       "<polyline clip-path=\"url(#clip1100)\" style=\"stroke:#ac8d18; stroke-width:3; stroke-opacity:1; fill:none\" points=\"\n",
       "  482.563,127.976 518.563,127.976 \n",
       "  \"/>\n",
       "<g clip-path=\"url(#clip1100)\">\n",
       "<text style=\"fill:#000000; fill-opacity:1; font-family:Arial,Helvetica Neue,Helvetica,sans-serif; font-size:12; text-anchor:start;\" transform=\"rotate(0, 524.563, 132.476)\" x=\"524.563\" y=\"132.476\">x+2y</text>\n",
       "</g>\n",
       "</svg>\n"
      ]
     },
     "execution_count": 4,
     "metadata": {},
     "output_type": "execute_result"
    }
   ],
   "source": [
    "# Column picture of linear equations\n",
    "# Solves for the combination of columns that create b\n",
    "x = [2; -1]\n",
    "y = [-1; 2]\n",
    "b = [0; 3]\n",
    "pvector(x) = ([0, x[1]], [0, x[2]]) # convert vector (x, y) to plottable series [x1, x2], [y1, y2]\n",
    "plot(pvector(x), label=\"x\", title=\"Column Picture\", arrow=true, xlim=(-2, 4), ylim=(-2, 4), linewidth=3)\n",
    "plot!(pvector(y), label=\"y\", arrow=true)\n",
    "plot!(pvector(b), label=\"b\", arrow=true, linewidth=5)\n",
    "function combine(x, y)\n",
    "    total = x + y\n",
    "    ([x[1], total[1]], [x[2], total[2]])\n",
    "end\n",
    "\n",
    "plot!(combine(x, y), arrow=true, label=\"x+y\", linewidth=3)\n",
    "plot!(combine(x + y, y), arrow=true, label=\"x+2y\", linewidth=3)\n",
    "\n"
   ]
  },
  {
   "cell_type": "markdown",
   "metadata": {},
   "source": [
    "### Matrix Multiplication\n",
    "Column View  \n",
    "Ax = b  \n",
    "Ax is a linear combination of the columns of A"
   ]
  },
  {
   "cell_type": "code",
   "execution_count": 5,
   "metadata": {},
   "outputs": [
    {
     "data": {
      "text/plain": [
       "true"
      ]
     },
     "execution_count": 5,
     "metadata": {},
     "output_type": "execute_result"
    }
   ],
   "source": [
    "# Multiplying a matrix by a vector takes a linear combination of the matrices columns\n",
    "A = [2 5\n",
    "     1 3]\n",
    "x = [1; 2]\n",
    "\n",
    "# Column view of A\n",
    "A1 = [2; 1]\n",
    "A2 = [5; 3]\n",
    "\n",
    "# Ax is a linear combination of the columns of A\n",
    "A*x == A1*x[1] + A2*x[2]\n",
    "\n",
    "# the type of the two sides may vary depending on how x is written\n",
    "# approximate equality will perform type conversion as needed to compare\n",
    "A*x ≈ A1*x[1] + A2*x[2]"
   ]
  },
  {
   "cell_type": "markdown",
   "metadata": {},
   "source": [
    "## Reading Notes"
   ]
  },
  {
   "cell_type": "code",
   "execution_count": 19,
   "metadata": {},
   "outputs": [
    {
     "data": {
      "text/plain": [
       "true"
      ]
     },
     "execution_count": 19,
     "metadata": {},
     "output_type": "execute_result"
    }
   ],
   "source": [
    "# The dot product of two vectors is a sum of the products of their components\n",
    "v = [1; 2; 3]\n",
    "w = [4; 5; 6]\n",
    "dp = (v[1] * w[1]) + (v[2] * w[2]) + (v[3] * w[3])\n",
    "dp == dot(v, w)"
   ]
  },
  {
   "cell_type": "code",
   "execution_count": 20,
   "metadata": {},
   "outputs": [
    {
     "data": {
      "text/plain": [
       "0"
      ]
     },
     "execution_count": 20,
     "metadata": {},
     "output_type": "execute_result"
    }
   ],
   "source": [
    "# The dot product of perpendicular vectors is zero\n",
    "v = [1; 0; 0]\n",
    "w = [0; 1; 1]\n",
    "dot(v, w)"
   ]
  },
  {
   "cell_type": "code",
   "execution_count": 21,
   "metadata": {},
   "outputs": [
    {
     "data": {
      "text/plain": [
       "0"
      ]
     },
     "execution_count": 21,
     "metadata": {},
     "output_type": "execute_result"
    }
   ],
   "source": [
    "v = [1; 0; 0; 1]\n",
    "w = [0; 1; 1; 0]\n",
    "dot(v, w)"
   ]
  },
  {
   "cell_type": "code",
   "execution_count": 35,
   "metadata": {},
   "outputs": [
    {
     "data": {
      "text/plain": [
       "true"
      ]
     },
     "execution_count": 35,
     "metadata": {},
     "output_type": "execute_result"
    }
   ],
   "source": [
    "z = [1; 1; 1; 1; 1]\n",
    "dot(z, z)\n",
    "u = z / √5\n",
    "dot(u, u) ≈ 1"
   ]
  },
  {
   "cell_type": "markdown",
   "metadata": {},
   "source": [
    "## Recitation notes"
   ]
  },
  {
   "cell_type": "code",
   "execution_count": 36,
   "metadata": {},
   "outputs": [
    {
     "data": {
      "text/plain": [
       "2-element Array{Float64,1}:\n",
       " 1.0\n",
       " 1.0"
      ]
     },
     "execution_count": 36,
     "metadata": {},
     "output_type": "execute_result"
    }
   ],
   "source": [
    "A = [2 1\n",
    "     1 -2]\n",
    "b = [3; -1]"
   ]
  },
  {
   "cell_type": "code",
   "execution_count": null,
   "metadata": {},
   "outputs": [],
   "source": []
  }
 ],
 "metadata": {
  "kernelspec": {
   "display_name": "Julia 0.6.3",
   "language": "julia",
   "name": "julia-0.6"
  },
  "language_info": {
   "file_extension": ".jl",
   "mimetype": "application/julia",
   "name": "julia",
   "version": "0.6.3"
  }
 },
 "nbformat": 4,
 "nbformat_minor": 2
}
