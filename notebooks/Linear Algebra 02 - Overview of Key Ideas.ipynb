{
 "cells": [
  {
   "cell_type": "markdown",
   "metadata": {},
   "source": [
    "# Linear Algebra: Overview of Key Ideas\n",
    "\n",
    "MIT Gilbert Strang lectures  \n",
    "https://ocw.mit.edu/courses/mathematics/18-06sc-linear-algebra-fall-2011/ax-b-and-the-four-subspaces/an-overview-of-key-ideas/\n",
    "\n",
    "- Watch lecture\n",
    "- Do problems in summary\n"
   ]
  },
  {
   "cell_type": "markdown",
   "metadata": {},
   "source": [
    "## Lecture Notes\n",
    "\n",
    "Vectors => Matrices => Subspaces\n",
    "\n",
    "\n",
    "### Vectors\n",
    "Take linear combinations.\n",
    "\n",
    "### Matrix\n",
    "Has vectors in its columns.\n",
    "\n",
    "### Subspace\n",
    "\n",
    "Vector space is all the combinations of a bunch of vectors\n",
    "A subspace is a vector space inside a larger vector space\n",
    "Given space R^3, subspaces include planes, lines, the origin (zero subspace), and the whole space\n",
    "\n",
    "Watch for A transpose A"
   ]
  },
  {
   "cell_type": "code",
   "execution_count": null,
   "metadata": {},
   "outputs": [],
   "source": []
  }
 ],
 "metadata": {
  "kernelspec": {
   "display_name": "Julia 0.6.3",
   "language": "julia",
   "name": "julia-0.6"
  },
  "language_info": {
   "file_extension": ".jl",
   "mimetype": "application/julia",
   "name": "julia",
   "version": "0.6.3"
  }
 },
 "nbformat": 4,
 "nbformat_minor": 2
}
