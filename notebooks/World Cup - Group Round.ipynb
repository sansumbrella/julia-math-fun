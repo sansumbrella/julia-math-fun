{
 "cells": [
  {
   "cell_type": "code",
   "execution_count": 96,
   "metadata": {},
   "outputs": [],
   "source": [
    "using ExcelFiles, CSVFiles, DataFrames, Distributions"
   ]
  },
  {
   "cell_type": "code",
   "execution_count": 97,
   "metadata": {},
   "outputs": [],
   "source": [
    "group_phase = load(\"data/group-phase.xlsx\", \"Sheet1\") |> DataFrame;\n",
    "team_rankings = load(\"data/team-rankings.csv\") |> DataFrame;"
   ]
  },
  {
   "cell_type": "code",
   "execution_count": 98,
   "metadata": {},
   "outputs": [
    {
     "data": {
      "text/html": [
       "<table class=\"data-frame\"><thead><tr><th></th><th>TeamA</th><th>ScoreA</th><th>ScoreB</th><th>TeamB</th></tr></thead><tbody><tr><th>1</th><td>Russia</td><td>3.0</td><td>2.0</td><td>Saudi Arabia</td></tr><tr><th>2</th><td>Egypt</td><td>1.0</td><td>2.0</td><td>Uruguay</td></tr><tr><th>3</th><td>Portugal</td><td>NA</td><td>NA</td><td>Spain</td></tr></tbody></table>"
      ],
      "text/plain": [
       "3×4 DataFrames.DataFrame\n",
       "│ Row │ TeamA      │ ScoreA │ ScoreB │ TeamB          │\n",
       "├─────┼────────────┼────────┼────────┼────────────────┤\n",
       "│ 1   │ \"Russia\"   │ 3.0    │ 2.0    │ \"Saudi Arabia\" │\n",
       "│ 2   │ \"Egypt\"    │ 1.0    │ 2.0    │ \"Uruguay\"      │\n",
       "│ 3   │ \"Portugal\" │ NA     │ NA     │ \"Spain\"        │"
      ]
     },
     "execution_count": 98,
     "metadata": {},
     "output_type": "execute_result"
    }
   ],
   "source": [
    "group_phase[1:3, [:TeamA, :ScoreA, :ScoreB, :TeamB]]"
   ]
  },
  {
   "cell_type": "code",
   "execution_count": 99,
   "metadata": {},
   "outputs": [
    {
     "data": {
      "text/plain": [
       "(0.5378690629011553, 1.0)"
      ]
     },
     "execution_count": 99,
     "metadata": {},
     "output_type": "execute_result"
    }
   ],
   "source": [
    "# Convert team rankings to dictionary for easier lookup\n",
    "rankings = Dict()\n",
    "max_points = maximum(team_rankings[:Points])\n",
    "for i in 1:length(team_rankings[:Team])\n",
    "    row = team_rankings[i, [:Team, :Points, :Bias]]\n",
    "    rankings[row[:Team][1]] = (row[:Points][1] / max_points, row[:Bias][1])\n",
    "end\n",
    "rankings[\"Senegal\"]"
   ]
  },
  {
   "cell_type": "code",
   "execution_count": 112,
   "metadata": {},
   "outputs": [],
   "source": [
    "# randomize game outcomes\n",
    "SEED = 11235\n",
    "srand(SEED)\n",
    "d = Normal()\n",
    "\n",
    "struct MatchResult\n",
    "    team_a::String\n",
    "    team_b::String\n",
    "    score_a::Number\n",
    "    score_b::Number\n",
    "end\n",
    "\n",
    "# A three-way coin toss\n",
    "# Returns a MatchResult for a game\n",
    "function score_match(left, right)    \n",
    "    left_strength = relative_score(left, right)\n",
    "    right_strength = relative_score(right, left)\n",
    "    \n",
    "    left_score = game_success(left_strength)\n",
    "    right_score = game_success(right_strength)\n",
    "    \n",
    "    spread = mix(0.2, 3, abs(left_score - right_score))\n",
    "    loser = mix(0, 3, max(0, 0.33 + min(left_score, right_score)))\n",
    "    loss_score = trunc(Int, round(loser))\n",
    "    win_score = trunc(Int, round(loser + spread))\n",
    "    \n",
    "    ls = left_score > right_score ? win_score : loss_score\n",
    "    rs = right_score > left_score ? win_score : loss_score\n",
    "    \n",
    "    return MatchResult(left, right, ls, rs)\n",
    "end\n",
    "\n",
    "# Scores left team's strength relative to right team\n",
    "function relative_score(left, right)\n",
    "    lr = rankings[left] \n",
    "    rr = rankings[right]\n",
    "    return score_team(lr[1] - rr[1], lr[2] - rr[2])\n",
    "end\n",
    "\n",
    "# Combines personal bias an relative FIFA ranking into a single number\n",
    "score_team(points, bias) = points + mix(0.0, 0.25, bias)\n",
    "\n",
    "# Number of goals based on strength of team (normal distribution)\n",
    "game_success(strength) = strength + rand(d) * 0.175\n",
    "\n",
    "function winner(game::MatchResult)\n",
    "    if game.score_a > game.score_b\n",
    "        return :Left\n",
    "    elseif game.score_b > game.score_a\n",
    "        return :Right\n",
    "    else\n",
    "        return :Tie\n",
    "    end\n",
    "end\n",
    "\n",
    "mix(a, b, t) = a + (b - a) * t\n",
    "; # don't print output"
   ]
  },
  {
   "cell_type": "code",
   "execution_count": 113,
   "metadata": {},
   "outputs": [
    {
     "data": {
      "text/plain": [
       "(34, 4, 12)"
      ]
     },
     "execution_count": 113,
     "metadata": {},
     "output_type": "execute_result"
    }
   ],
   "source": [
    "left = 0\n",
    "right = 0\n",
    "ties = 0\n",
    "for i in 1:50\n",
    "    match = score_match(\"Portugal\", \"Spain\")\n",
    "    result = winner(match)\n",
    "    if result == :Tie\n",
    "        ties += 1\n",
    "    elseif result == :Right\n",
    "        right += 1\n",
    "    elseif result == :Left\n",
    "        left += 1\n",
    "    end\n",
    "end\n",
    "(left, right, ties)"
   ]
  },
  {
   "cell_type": "code",
   "execution_count": 115,
   "metadata": {},
   "outputs": [
    {
     "data": {
      "text/html": [
       "<table class=\"data-frame\"><thead><tr><th></th><th>TeamA</th><th>ScoreA</th><th>ScoreB</th><th>TeamB</th></tr></thead><tbody><tr><th>1</th><td>Russia</td><td>1</td><td>2</td><td>Saudi Arabia</td></tr><tr><th>2</th><td>Egypt</td><td>1</td><td>1</td><td>Uruguay</td></tr><tr><th>3</th><td>Portugal</td><td>2</td><td>1</td><td>Spain</td></tr><tr><th>4</th><td>Morocco</td><td>1</td><td>0</td><td>Iran</td></tr><tr><th>5</th><td>France</td><td>2</td><td>1</td><td>Australia</td></tr><tr><th>6</th><td>Peru</td><td>1</td><td>1</td><td>Denmark</td></tr><tr><th>7</th><td>Argentina</td><td>2</td><td>0</td><td>Iceland</td></tr><tr><th>8</th><td>Croatia</td><td>2</td><td>0</td><td>Nigeria</td></tr><tr><th>9</th><td>Brazil</td><td>1</td><td>1</td><td>Switzerland</td></tr><tr><th>10</th><td>Costa Rica</td><td>2</td><td>1</td><td>Serbia</td></tr><tr><th>11</th><td>Germany</td><td>3</td><td>0</td><td>Mexico</td></tr><tr><th>12</th><td>Sweden</td><td>2</td><td>0</td><td>Korea Republic</td></tr><tr><th>13</th><td>Belgium</td><td>2</td><td>0</td><td>Panama</td></tr><tr><th>14</th><td>Tunisia</td><td>0</td><td>2</td><td>England</td></tr><tr><th>15</th><td>Poland</td><td>1</td><td>1</td><td>Senegal</td></tr><tr><th>16</th><td>Colombia</td><td>1</td><td>2</td><td>Japan</td></tr><tr><th>17</th><td>Russia</td><td>0</td><td>2</td><td>Egypt</td></tr><tr><th>18</th><td>Uruguay</td><td>3</td><td>0</td><td>Saudi Arabia</td></tr><tr><th>19</th><td>Portugal</td><td>2</td><td>0</td><td>Morocco</td></tr><tr><th>20</th><td>Iran</td><td>0</td><td>2</td><td>Spain</td></tr><tr><th>21</th><td>France</td><td>2</td><td>0</td><td>Peru</td></tr><tr><th>22</th><td>Denmark</td><td>2</td><td>0</td><td>Australia</td></tr><tr><th>23</th><td>Argentina</td><td>2</td><td>0</td><td>Croatia</td></tr><tr><th>24</th><td>Nigeria</td><td>0</td><td>1</td><td>Iceland</td></tr><tr><th>25</th><td>Brazil</td><td>3</td><td>0</td><td>Costa Rica</td></tr><tr><th>26</th><td>Serbia</td><td>0</td><td>2</td><td>Switzerland</td></tr><tr><th>27</th><td>Germany</td><td>3</td><td>0</td><td>Sweden</td></tr><tr><th>28</th><td>Korea Republic</td><td>0</td><td>2</td><td>Mexico</td></tr><tr><th>29</th><td>Belgium</td><td>2</td><td>1</td><td>Tunisia</td></tr><tr><th>30</th><td>England</td><td>2</td><td>0</td><td>Panama</td></tr><tr><th>&vellip;</th><td>&vellip;</td><td>&vellip;</td><td>&vellip;</td><td>&vellip;</td></tr></tbody></table>"
      ],
      "text/plain": [
       "48×4 DataFrames.DataFrame\n",
       "│ Row │ TeamA            │ ScoreA │ ScoreB │ TeamB          │\n",
       "├─────┼──────────────────┼────────┼────────┼────────────────┤\n",
       "│ 1   │ \"Russia\"         │ 1      │ 2      │ \"Saudi Arabia\" │\n",
       "│ 2   │ \"Egypt\"          │ 1      │ 1      │ \"Uruguay\"      │\n",
       "│ 3   │ \"Portugal\"       │ 2      │ 1      │ \"Spain\"        │\n",
       "│ 4   │ \"Morocco\"        │ 1      │ 0      │ \"Iran\"         │\n",
       "│ 5   │ \"France\"         │ 2      │ 1      │ \"Australia\"    │\n",
       "│ 6   │ \"Peru\"           │ 1      │ 1      │ \"Denmark\"      │\n",
       "│ 7   │ \"Argentina\"      │ 2      │ 0      │ \"Iceland\"      │\n",
       "│ 8   │ \"Croatia\"        │ 2      │ 0      │ \"Nigeria\"      │\n",
       "│ 9   │ \"Brazil\"         │ 1      │ 1      │ \"Switzerland\"  │\n",
       "│ 10  │ \"Costa Rica\"     │ 2      │ 1      │ \"Serbia\"       │\n",
       "│ 11  │ \"Germany\"        │ 3      │ 0      │ \"Mexico\"       │\n",
       "⋮\n",
       "│ 37  │ \"Denmark\"        │ 0      │ 1      │ \"France\"       │\n",
       "│ 38  │ \"Australia\"      │ 0      │ 2      │ \"Peru\"         │\n",
       "│ 39  │ \"Nigeria\"        │ 0      │ 2      │ \"Argentina\"    │\n",
       "│ 40  │ \"Iceland\"        │ 1      │ 1      │ \"Croatia\"      │\n",
       "│ 41  │ \"Serbia\"         │ 0      │ 2      │ \"Brazil\"       │\n",
       "│ 42  │ \"Switzerland\"    │ 3      │ 0      │ \"Costa Rica\"   │\n",
       "│ 43  │ \"Korea Republic\" │ 0      │ 4      │ \"Germany\"      │\n",
       "│ 44  │ \"Mexico\"         │ 1      │ 1      │ \"Sweden\"       │\n",
       "│ 45  │ \"England\"        │ 0      │ 1      │ \"Belgium\"      │\n",
       "│ 46  │ \"Panama\"         │ 0      │ 2      │ \"Tunisia\"      │\n",
       "│ 47  │ \"Japan\"          │ 0      │ 2      │ \"Poland\"       │\n",
       "│ 48  │ \"Senegal\"        │ 1      │ 0      │ \"Colombia\"     │"
      ]
     },
     "execution_count": 115,
     "metadata": {},
     "output_type": "execute_result"
    }
   ],
   "source": [
    "# run simulation\n",
    "outcomes = []\n",
    "for i in 1:length(group_phase[:TeamA])\n",
    "    push!(outcomes, score_match(group_phase[i, :TeamA], group_phase[i, :TeamB]))\n",
    "end\n",
    "# assign outcomes to our dataframe\n",
    "group_phase[:ScoreA] = map(v -> v.score_a, outcomes)\n",
    "group_phase[:ScoreB] = map(v -> v.score_b, outcomes)\n",
    "# write outcomes to csv on disk\n",
    "writetable(\"output/dw-group-phase-ranked.csv\", group_phase)\n",
    "# view in notebook\n",
    "group_phase[:, [:TeamA, :ScoreA, :ScoreB, :TeamB]]"
   ]
  },
  {
   "cell_type": "code",
   "execution_count": null,
   "metadata": {},
   "outputs": [],
   "source": []
  },
  {
   "cell_type": "code",
   "execution_count": null,
   "metadata": {},
   "outputs": [],
   "source": []
  }
 ],
 "metadata": {
  "kernelspec": {
   "display_name": "Julia 0.6.3",
   "language": "julia",
   "name": "julia-0.6"
  },
  "language_info": {
   "file_extension": ".jl",
   "mimetype": "application/julia",
   "name": "julia",
   "version": "0.6.3"
  }
 },
 "nbformat": 4,
 "nbformat_minor": 2
}
