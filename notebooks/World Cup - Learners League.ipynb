{
 "cells": [
  {
   "cell_type": "markdown",
   "metadata": {},
   "source": [
    "# FIFA Learner's League\n",
    "\n",
    "2018 Men's World Cup round of 16 predictions based on group round performance.\n",
    "\n",
    "Team rankings taken from [FIFA ranking table](https://www.fifa.com/fifa-world-ranking/ranking-table/men/index.html). Scraping is easy, since they nicely structured the data in a table:\n",
    "```\n",
    "points = document.querySelectorAll('td.tbl-points')\n",
    "Array.forEach(points, p => console.log(p.textContent))\n",
    "```"
   ]
  },
  {
   "cell_type": "markdown",
   "metadata": {},
   "source": [
    "## Forward Propagation\n",
    "\n",
    "Our forward pass passes our activations through a series of nonlinear transformations to give an estimate of the outcome, ŷ."
   ]
  },
  {
   "cell_type": "code",
   "execution_count": 163,
   "metadata": {},
   "outputs": [],
   "source": [
    "# rectified linear unit for introducing non-linearity into model\n",
    "relu(values) = max.(values, 0.0)\n",
    "\n",
    "# Given a vector or matrix of inputs, computes predicted outcome ŷ\n",
    "#\n",
    "# activations - initial activations\n",
    "# weights - array of weight matrices\n",
    "# biases - array of bias vectors\n",
    "function forwardPass(activations, weights, biases)\n",
    "    a′ = activations\n",
    "    for i in 1:length(weights) - 1\n",
    "        a′ = relu(weights[i] * a′ .+ biases[i])\n",
    "    end\n",
    "    weights[length(weights)] * a′ .+ biases[length(biases)]\n",
    "end\n",
    "; # silence output"
   ]
  },
  {
   "cell_type": "markdown",
   "metadata": {},
   "source": [
    "## Load our training data\n",
    "\n",
    "We want to train our model to predict how many goals each team will score in a given match. To make this simpler, we will train a single model to guess the score of one team against another. Later, we will ask that model for the score of A in A vs B as well as the score of B in B vs A. This doubles our training data, since each match will be represented by two output labels and two sets of inputs.\n",
    "\n",
    "### Inputs\n",
    "- Team Identifier A\n",
    "- Team Identifier B\n",
    "- FIFA World Ranking A\n",
    "- FIFA World Ranking B\n",
    "\n",
    "### Outputs\n",
    "- Team A Score\n"
   ]
  },
  {
   "cell_type": "code",
   "execution_count": 188,
   "metadata": {},
   "outputs": [
    {
     "data": {
      "text/plain": [
       "1×2 Array{Float64,2}:\n",
       " 5.61747e-6  7.99972e-6"
      ]
     },
     "execution_count": 188,
     "metadata": {},
     "output_type": "execute_result"
    }
   ],
   "source": [
    "srand(11235)\n",
    "W = [rand(4, 4) .* 0.01 for i in 1 : 3]\n",
    "B = [zeros(4, 1) for i in 1: 3]\n",
    "push!(W, rand(1, 4))\n",
    "push!(B, zeros(1, 1))\n",
    "A = [0.1 0.2\n",
    "     0.2 0.5\n",
    "     0.6 0.33\n",
    "     0.2 0.4]\n",
    "Y = [ 0.000001 .5 ]\n",
    "\n",
    "Ŷ = forwardPass(A, W, B)"
   ]
  },
  {
   "cell_type": "markdown",
   "metadata": {},
   "source": [
    "## Compute Loss\n",
    "\n",
    "Given all our estimates Ŷ, compute loss relative to actual game outcomes Y\n",
    "\n",
    "We could train two models, one for each output."
   ]
  },
  {
   "cell_type": "code",
   "execution_count": 195,
   "metadata": {},
   "outputs": [
    {
     "data": {
      "text/plain": [
       "1×2 Array{Float64,2}:\n",
       " 2.13211e-11  0.249992"
      ]
     },
     "execution_count": 195,
     "metadata": {},
     "output_type": "execute_result"
    }
   ],
   "source": [
    "function squareLoss(y, ŷ)\n",
    "    (y .- ŷ).^2\n",
    "end\n",
    "squareLoss(Y, Ŷ)"
   ]
  },
  {
   "cell_type": "code",
   "execution_count": 207,
   "metadata": {},
   "outputs": [
    {
     "name": "stdout",
     "output_type": "stream",
     "text": [
      "\u001b[1m\u001b[37mTest Summary: | \u001b[39m\u001b[22m\u001b[1m\u001b[32mPass  \u001b[39m\u001b[22m\u001b[1m\u001b[36mTotal\u001b[39m\u001b[22m\n",
      "Square Loss   | \u001b[32m   4  \u001b[39m\u001b[36m    4\u001b[39m\n"
     ]
    },
    {
     "data": {
      "text/plain": [
       "Base.Test.DefaultTestSet(\"Square Loss\", Any[], 4, false)"
      ]
     },
     "execution_count": 207,
     "metadata": {},
     "output_type": "execute_result"
    }
   ],
   "source": [
    "# simple unit tests\n",
    "using Base.Test\n",
    "@testset \"Square Loss\" begin\n",
    "    @test squareLoss(2, 1) == 1\n",
    "    @test squareLoss(3, 1) == 4\n",
    "    @test squareLoss([3; 5], [1; 2]) == [4; 9]\n",
    "    @test squareLoss(1.5, 1) ≈ 0.25\n",
    "end"
   ]
  },
  {
   "cell_type": "markdown",
   "metadata": {},
   "source": [
    "## Back Propagation\n",
    "Minimize loss by moving weights and biases along their gradients.\n",
    "\n",
    "Compute the gradient of the loss function with respect to parameters of each function used to generate it."
   ]
  },
  {
   "cell_type": "code",
   "execution_count": null,
   "metadata": {},
   "outputs": [],
   "source": []
  },
  {
   "cell_type": "markdown",
   "metadata": {},
   "source": [
    "## Train Parameters\n",
    "\n",
    "Using the change of cost relative to change of each parameter, change parameters to minimize cost"
   ]
  },
  {
   "cell_type": "code",
   "execution_count": null,
   "metadata": {},
   "outputs": [],
   "source": []
  }
 ],
 "metadata": {
  "kernelspec": {
   "display_name": "Julia 0.6.3",
   "language": "julia",
   "name": "julia-0.6"
  },
  "language_info": {
   "file_extension": ".jl",
   "mimetype": "application/julia",
   "name": "julia",
   "version": "0.6.3"
  }
 },
 "nbformat": 4,
 "nbformat_minor": 2
}
