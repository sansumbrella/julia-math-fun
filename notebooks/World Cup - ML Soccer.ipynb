{
 "cells": [
  {
   "cell_type": "code",
   "execution_count": 91,
   "metadata": {},
   "outputs": [],
   "source": [
    "# Import machine learning library\n",
    "using Flux\n",
    "using Flux.Tracker\n",
    "using Flux: @epochs"
   ]
  },
  {
   "cell_type": "code",
   "execution_count": 60,
   "metadata": {},
   "outputs": [],
   "source": [
    "# Define our model\n",
    "model = Chain(\n",
    "    Dense(4, 4, relu),\n",
    "    Dense(4, 4, relu),\n",
    "    Dense(4, 3, relu),\n",
    "    Dense(3, 1, relu)\n",
    ")\n",
    "\n",
    "# Squared loss since target values are in a range\n",
    "loss(x, y) = sum((model(x) .- y).^2)\n",
    "optimizer = Flux.Optimise.ADAM(params(model));"
   ]
  },
  {
   "cell_type": "code",
   "execution_count": 66,
   "metadata": {},
   "outputs": [
    {
     "data": {
      "text/plain": [
       "4-element Array{Tuple{Array{Float64,1},Float64},1}:\n",
       " ([0.1, 0.2, 0.3, 0.4], 0.3)\n",
       " ([0.2, 0.1, 0.4, 0.3], 0.2)\n",
       " ([0.4, 0.5, 0.6, 0.7], 0.1)\n",
       " ([0.7, 0.3, 0.2, 0.1], 0.3)"
      ]
     },
     "execution_count": 66,
     "metadata": {},
     "output_type": "execute_result"
    }
   ],
   "source": [
    "# Load our data (inputs and labels)\n",
    "fakedata = [([1; 2; 3; 4] / 10, 3 / 10), ([2; 1; 4; 3] / 10, 2 / 10), ([4; 5; 6; 7] / 10, 1 / 10), ([7; 3; 2; 1] / 10, 3 / 10)]\n"
   ]
  },
  {
   "cell_type": "code",
   "execution_count": 110,
   "metadata": {},
   "outputs": [
    {
     "name": "stdout",
     "output_type": "stream",
     "text": [
      "loss(test_x, test_y) = 0.0 (tracked)\n",
      "loss(test_x, test_y) = 0.0 (tracked)\n",
      "loss(test_x, test_y) = 0.0 (tracked)\n",
      "loss(test_x, test_y) = 0.0 (tracked)\n",
      "loss(test_x, test_y) = 0.0 (tracked)\n",
      "loss(test_x, test_y) = 0.0 (tracked)\n"
     ]
    }
   ],
   "source": [
    "test_x, test_y = fakedata[1]\n",
    "observer() = @show(loss(test_x, test_y))\n",
    "cb = Flux.throttle(observer, 1, leading=false, trailing=true)\n",
    "for i in 1:10000\n",
    "    Flux.train!(loss, fakedata, optimizer);\n",
    "    cb()\n",
    "end"
   ]
  },
  {
   "cell_type": "code",
   "execution_count": 113,
   "metadata": {},
   "outputs": [
    {
     "data": {
      "text/plain": [
       "Tracked 1-element Array{Float64,1}:\n",
       " 0.0983554"
      ]
     },
     "execution_count": 113,
     "metadata": {},
     "output_type": "execute_result"
    }
   ],
   "source": [
    "model([1; 7; 3; 5] / 10)"
   ]
  },
  {
   "cell_type": "code",
   "execution_count": 102,
   "metadata": {},
   "outputs": [
    {
     "data": {
      "text/markdown": [
       "Returns a function that when invoked, will only be triggered at most once during `timeout` seconds. Normally, the throttled function will run as much as it can, without ever going more than once per `wait` duration; but if you'd like to disable the execution on the leading edge, pass `leading=false`. To enable execution on the trailing edge, ditto.\n"
      ],
      "text/plain": [
       "Returns a function that when invoked, will only be triggered at most once during `timeout` seconds. Normally, the throttled function will run as much as it can, without ever going more than once per `wait` duration; but if you'd like to disable the execution on the leading edge, pass `leading=false`. To enable execution on the trailing edge, ditto.\n"
      ]
     },
     "execution_count": 102,
     "metadata": {},
     "output_type": "execute_result"
    }
   ],
   "source": [
    "?Flux.throttle"
   ]
  },
  {
   "cell_type": "code",
   "execution_count": null,
   "metadata": {},
   "outputs": [],
   "source": [
    "# Create our training data\n",
    "using ExcelFiles, CSVFiles, DataFrames\n",
    "\n",
    "function loadRankings(filename=\"data/team-rankings.csv\")\n",
    "    team_rankings = load(filename) |> DataFrame;\n",
    "    rankings = Dict()\n",
    "    max_points = maximum(team_rankings[:Points])\n",
    "    for i in 1:length(team_rankings[:Team])\n",
    "        row = team_rankings[i, [:Team, :Points, :Bias]]\n",
    "        rankings[row[:Team][1]] = (row[:Points][1] / max_points, row[:Bias][1])\n",
    "    end\n",
    "    rankings\n",
    "end\n",
    "\n",
    "function loadGames(filename=\"data/group-phase.xlsx\")\n",
    "    group_phase = load(filename, \"Sheet1\") |> DataFrame;\n",
    "    group_phase\n",
    "end\n",
    "\n",
    "function createTrainingData()\n",
    "    rankings = loadRankings()\n",
    "    games = loadGames()\n",
    "    # return (x, y) tuples of input teams and output scores\n",
    "    [(input, output), (input, output)]\n",
    "end"
   ]
  }
 ],
 "metadata": {
  "kernelspec": {
   "display_name": "Julia 0.6.3",
   "language": "julia",
   "name": "julia-0.6"
  },
  "language_info": {
   "file_extension": ".jl",
   "mimetype": "application/julia",
   "name": "julia",
   "version": "0.6.3"
  }
 },
 "nbformat": 4,
 "nbformat_minor": 2
}
